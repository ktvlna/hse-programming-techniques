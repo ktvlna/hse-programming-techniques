{
  "nbformat": 4,
  "nbformat_minor": 0,
  "metadata": {
    "colab": {
      "provenance": [],
      "authorship_tag": "ABX9TyNTA0wSnR31tOYzu1cH0D7k"
    },
    "kernelspec": {
      "name": "python3",
      "display_name": "Python 3"
    },
    "language_info": {
      "name": "python"
    }
  },
  "cells": [
    {
      "cell_type": "code",
      "source": [
        "import time\n",
        "import numpy as np\n",
        "import pandas as pd"
      ],
      "metadata": {
        "id": "B_OyG1HlCLdD"
      },
      "execution_count": null,
      "outputs": []
    },
    {
      "cell_type": "code",
      "source": [
        "sample_sizes = [100, 620, 1140,  1660,  2180,  2700,  3220,  3740, 4260, 4780, 5310,  5830,  6350,  6870,  7390,  7910,  8440,  8960, 9480, 10000]"
      ],
      "metadata": {
        "id": "noc6fFiGbQ9i"
      },
      "execution_count": null,
      "outputs": []
    },
    {
      "cell_type": "markdown",
      "source": [
        "# 1. Модифицировать два метода генерации псевдослучайных чисел"
      ],
      "metadata": {
        "id": "FOXbWpLtDlNa"
      }
    },
    {
      "cell_type": "markdown",
      "source": [
        "## Модифицированный линейный конгруэнтный метод"
      ],
      "metadata": {
        "id": "E3UNgWgvDSxp"
      }
    },
    {
      "cell_type": "code",
      "execution_count": null,
      "metadata": {
        "id": "q43sC5GMJrZI"
      },
      "outputs": [],
      "source": [
        "def modified_lcg(seed=None, m=2**31 - 1, a0=1220703125, c0=7, size=1):\n",
        "    if seed is None:\n",
        "        seed = int(time.time()) % 10\n",
        "    sample = []\n",
        "    for i in range(size):\n",
        "        x = sample[i - 1] if i > 0 else seed\n",
        "        a = a0 + (i % 10)\n",
        "        c = c0 + (x % 10)\n",
        "        sample.append((a * x + c) % m)\n",
        "    return sample[0] if size == 1 else sample"
      ]
    },
    {
      "cell_type": "markdown",
      "source": [
        "# Модифицированное еще что-то там"
      ],
      "metadata": {
        "id": "N_U8vScGDq1T"
      }
    },
    {
      "cell_type": "code",
      "source": [
        "def blum_blum_shub(seed=None, bits=13, size=1):\n",
        "    p = 357079\n",
        "    q = 906403\n",
        "    m = p * q\n",
        "    if seed is None:\n",
        "        seed = int(time.time())\n",
        "    x = []\n",
        "    for n in range(size):\n",
        "        xn = seed if n == 0 else x[n - 1]\n",
        "        xn = xn ** 2 % m\n",
        "        output = 0\n",
        "        for _ in range(bits):\n",
        "            output = (output << 1) | (xn & 1) # Получение младшего бита\n",
        "            xn = xn ** 2 % m\n",
        "        x.append(output)\n",
        "\n",
        "    return x[0] if size == 1 else x"
      ],
      "metadata": {
        "id": "N6O6IEX8F--c"
      },
      "execution_count": null,
      "outputs": []
    },
    {
      "cell_type": "markdown",
      "source": [
        "# 2. Получить не менее 20 выборок каждым методом (диапазон чисел в каждой выборке не менее 5000) объемом не менее 100 элементов каждая"
      ],
      "metadata": {
        "id": "Tq9yXstsDrtV"
      }
    },
    {
      "cell_type": "code",
      "source": [
        "mylcg_samples = []\n",
        "bbs_samples = []\n",
        "\n",
        "for size in sample_sizes:\n",
        "    mylcg_samples.append(modified_lcg(size=size))\n",
        "    bbs_samples.append(blum_blum_shub(size=size))"
      ],
      "metadata": {
        "id": "WR3__u9re1Fv"
      },
      "execution_count": null,
      "outputs": []
    },
    {
      "cell_type": "markdown",
      "source": [
        "# 3. Подсчет статистик"
      ],
      "metadata": {
        "id": "EkjAoY9aMYPq"
      }
    },
    {
      "cell_type": "markdown",
      "source": [
        "## Среднее"
      ],
      "metadata": {
        "id": "7J5-0-_KNmqQ"
      }
    },
    {
      "cell_type": "code",
      "source": [
        "bbs_mean = [np.mean(sample) for sample in bbs_samples]\n",
        "bbs_mean"
      ],
      "metadata": {
        "colab": {
          "base_uri": "https://localhost:8080/"
        },
        "id": "IUCilD_JMZwe",
        "outputId": "0ded689d-90a5-4dd8-ec81-2be8f5965e93"
      },
      "execution_count": null,
      "outputs": [
        {
          "output_type": "execute_result",
          "data": {
            "text/plain": [
              "[4194.79,\n",
              " 4238.6467741935485,\n",
              " 4244.9850877192985,\n",
              " 4248.813855421687,\n",
              " 4253.439908256881,\n",
              " 4248.990740740741,\n",
              " 4248.98850931677,\n",
              " 4249.656684491979,\n",
              " 4249.047417840376,\n",
              " 4251.851882845188,\n",
              " 3633.432768361582,\n",
              " 3632.9370497427103,\n",
              " 3632.5225196850392,\n",
              " 3632.1707423580788,\n",
              " 3631.8684709066306,\n",
              " 3631.605941845765,\n",
              " 3631.4708530805688,\n",
              " 3631.2621651785716,\n",
              " 3631.076371308017,\n",
              " 3630.9099]"
            ]
          },
          "metadata": {},
          "execution_count": 159
        }
      ]
    },
    {
      "cell_type": "code",
      "source": [
        "lcg_mean = [np.mean(sample) for sample in mylcg_samples]\n",
        "lcg_mean"
      ],
      "metadata": {
        "colab": {
          "base_uri": "https://localhost:8080/"
        },
        "id": "A9idzRCeMgEI",
        "outputId": "7ec06250-f48e-4dcd-b4ad-dfb6a0ff2498"
      },
      "execution_count": null,
      "outputs": [
        {
          "output_type": "execute_result",
          "data": {
            "text/plain": [
              "[985747961.39,\n",
              " 1081147388.0903225,\n",
              " 1072549741.7991228,\n",
              " 1073646941.7716868,\n",
              " 1071778826.6509174,\n",
              " 1075872423.8059258,\n",
              " 1084726100.199379,\n",
              " 1083892423.9636364,\n",
              " 1079550132.507277,\n",
              " 1076988422.407113,\n",
              " 1073173951.2868173,\n",
              " 1076060742.2619212,\n",
              " 1073211461.7963779,\n",
              " 1074427462.870888,\n",
              " 1075769120.2533152,\n",
              " 1074776658.2764854,\n",
              " 1074485477.4478674,\n",
              " 1072440724.6487724,\n",
              " 1070446404.6270043,\n",
              " 1072277576.6101]"
            ]
          },
          "metadata": {},
          "execution_count": 160
        }
      ]
    },
    {
      "cell_type": "markdown",
      "source": [
        "## Стандартное отклонение"
      ],
      "metadata": {
        "id": "bpM4nnUXOa9K"
      }
    },
    {
      "cell_type": "code",
      "source": [
        "bbs_std = [np.std(sample, ddof=1) for sample in bbs_samples]\n",
        "bbs_std"
      ],
      "metadata": {
        "colab": {
          "base_uri": "https://localhost:8080/"
        },
        "id": "G7u6bLzfNkwb",
        "outputId": "7fa23b88-9177-4f3d-f54d-5026d94cf6bd"
      },
      "execution_count": null,
      "outputs": [
        {
          "output_type": "execute_result",
          "data": {
            "text/plain": [
              "[2387.4703247190614,\n",
              " 2399.2684021044647,\n",
              " 2404.254927901276,\n",
              " 2402.4699011576085,\n",
              " 2406.040847236766,\n",
              " 2403.8634414759013,\n",
              " 2403.7352536179637,\n",
              " 2404.840331576133,\n",
              " 2404.0876871525656,\n",
              " 2405.071733425813,\n",
              " 2854.4704259461028,\n",
              " 2854.555846619835,\n",
              " 2854.6272068695735,\n",
              " 2854.6877142092417,\n",
              " 2854.739669499406,\n",
              " 2854.784766148642,\n",
              " 2855.050786432176,\n",
              " 2855.0725090516753,\n",
              " 2855.091835371799,\n",
              " 2855.109141171803]"
            ]
          },
          "metadata": {},
          "execution_count": 161
        }
      ]
    },
    {
      "cell_type": "code",
      "source": [
        "lcg_std = [np.std(sample, ddof=1) for sample in mylcg_samples]\n",
        "lcg_std"
      ],
      "metadata": {
        "colab": {
          "base_uri": "https://localhost:8080/"
        },
        "id": "byLmSKJZOO1s",
        "outputId": "652f6abf-0dcd-4779-8208-66551ce9f6b7"
      },
      "execution_count": null,
      "outputs": [
        {
          "output_type": "execute_result",
          "data": {
            "text/plain": [
              "[550580559.0343468,\n",
              " 614865193.1966492,\n",
              " 616586751.1445081,\n",
              " 615165076.5645894,\n",
              " 619203057.3156732,\n",
              " 617087787.5124128,\n",
              " 620206192.2075038,\n",
              " 619560913.9925982,\n",
              " 621350101.693987,\n",
              " 622147565.2000486,\n",
              " 623675214.6630709,\n",
              " 619780536.6029532,\n",
              " 620780828.4090061,\n",
              " 621336805.9766985,\n",
              " 622791259.5280739,\n",
              " 621856280.8323473,\n",
              " 620970875.9727906,\n",
              " 620932429.4026382,\n",
              " 621140319.7084943,\n",
              " 622055253.4036368]"
            ]
          },
          "metadata": {},
          "execution_count": 162
        }
      ]
    },
    {
      "cell_type": "markdown",
      "source": [
        "## Коэффициент вариации"
      ],
      "metadata": {
        "id": "dR-V1FCKPkZi"
      }
    },
    {
      "cell_type": "code",
      "source": [
        "bbs_cv = np.array(bbs_std) / np.array(bbs_mean)\n",
        "bbs_cv"
      ],
      "metadata": {
        "colab": {
          "base_uri": "https://localhost:8080/"
        },
        "id": "mOCTgco6OUD_",
        "outputId": "bbf9a4c0-3d73-43d4-945b-78e6d90c538e"
      },
      "execution_count": null,
      "outputs": [
        {
          "output_type": "execute_result",
          "data": {
            "text/plain": [
              "array([0.56915133, 0.56604585, 0.56637535, 0.56544485, 0.56566941,\n",
              "       0.56574928, 0.56571941, 0.5658905 , 0.56579451, 0.56565276,\n",
              "       0.78561256, 0.78574327, 0.78585258, 0.78594535, 0.78602507,\n",
              "       0.78609431, 0.78619681, 0.78624797, 0.78629352, 0.78633434])"
            ]
          },
          "metadata": {},
          "execution_count": 163
        }
      ]
    },
    {
      "cell_type": "code",
      "source": [
        "lcg_cv = np.array(lcg_std) / np.array(lcg_mean)\n",
        "lcg_cv"
      ],
      "metadata": {
        "colab": {
          "base_uri": "https://localhost:8080/"
        },
        "id": "L0tTmeARPKrr",
        "outputId": "c9da8128-c619-49fc-a279-2de4b9f0655e"
      },
      "execution_count": null,
      "outputs": [
        {
          "output_type": "execute_result",
          "data": {
            "text/plain": [
              "array([0.55854091, 0.56871542, 0.5748794 , 0.57296775, 0.57773399,\n",
              "       0.57356967, 0.57176295, 0.57160738, 0.57556392, 0.5776734 ,\n",
              "       0.58115016, 0.5759717 , 0.57843291, 0.57829572, 0.57892651,\n",
              "       0.57859117, 0.57792394, 0.57898998, 0.58026289, 0.58012521])"
            ]
          },
          "metadata": {},
          "execution_count": 164
        }
      ]
    },
    {
      "cell_type": "markdown",
      "source": [
        "# 4. Критерий $χ^2$"
      ],
      "metadata": {
        "id": "ta5sbKGkPviU"
      }
    },
    {
      "cell_type": "code",
      "source": [
        "from scipy.stats import chisquare\n",
        "from scipy.stats.distributions import chi2\n",
        "\n",
        "def test_uniformity_chi_square(data, num_bins=10):\n",
        "    # бьем на бины\n",
        "    counts, bins = np.histogram(data, bins=num_bins)\n",
        "\n",
        "    # ожидаемое количество наблюдений в каждом интервале, если распределение равномерное\n",
        "    expected_counts = np.full_like(counts, fill_value=len(data) / num_bins)\n",
        "\n",
        "    chi_stat = np.sum((counts - expected_counts) ** 2 / expected_counts)\n",
        "    p_value = chi2.sf(chi_stat, num_bins - 1)\n",
        "    #chi_stat, p_value = chisquare(f_obs=counts, f_exp=expected_counts)\n",
        "\n",
        "    return chi_stat, p_value"
      ],
      "metadata": {
        "id": "b6EdbnSUT69D"
      },
      "execution_count": null,
      "outputs": []
    },
    {
      "cell_type": "code",
      "source": [
        "bbs_uniformity = pd.DataFrame(columns=['Размер выборки', 'Статистика χ²', 'p_value', 'Решение о принятии гипотезы'])\n",
        "lcg_uniformity = pd.DataFrame(columns=['Размер выборки', 'Статистика χ²', 'p_value', 'Решение о принятии гипотезы'])"
      ],
      "metadata": {
        "id": "rOT8L5RKc7cA"
      },
      "execution_count": null,
      "outputs": []
    },
    {
      "cell_type": "code",
      "source": [
        "for i, sample in enumerate(mylcg_samples):\n",
        "    chi_stat, p_value = test_uniformity_chi_square(sample)\n",
        "    lcg_uniformity.loc[i] = [len(sample), chi_stat, p_value, 'Отвергаем' if p_value <= 0.05 else 'Не отвергаем']"
      ],
      "metadata": {
        "id": "EtBjxDn-SNIM"
      },
      "execution_count": null,
      "outputs": []
    },
    {
      "cell_type": "code",
      "source": [
        "lcg_uniformity"
      ],
      "metadata": {
        "colab": {
          "base_uri": "https://localhost:8080/",
          "height": 677
        },
        "id": "BeT19gzgg9m2",
        "outputId": "104c8f50-7eb9-4c0f-afbe-6cf7f8edd6c9"
      },
      "execution_count": null,
      "outputs": [
        {
          "output_type": "execute_result",
          "data": {
            "text/plain": [
              "    Размер выборки  Статистика χ²   p_value Решение о принятии гипотезы\n",
              "0              100       4.800000  0.851383                Не отвергаем\n",
              "1              620       8.387097  0.495655                Не отвергаем\n",
              "2             1140       8.333333  0.500934                Не отвергаем\n",
              "3             1660       5.096386  0.825826                Не отвергаем\n",
              "4             2180       5.633028  0.776010                Не отвергаем\n",
              "5             2700       7.111111  0.625552                Не отвергаем\n",
              "6             3220      10.913043  0.281717                Не отвергаем\n",
              "7             3740      12.422460  0.190527                Не отвергаем\n",
              "8             4260       8.065728  0.527536                Не отвергаем\n",
              "9             4780       6.962343  0.641040                Не отвергаем\n",
              "10            5310      10.433145  0.316570                Не отвергаем\n",
              "11            5830      11.715266  0.229841                Не отвергаем\n",
              "12            6350      11.058268  0.271736                Не отвергаем\n",
              "13            6870      13.772926  0.130635                Не отвергаем\n",
              "14            7390      12.987821  0.163158                Не отвергаем\n",
              "15            7910      14.834387  0.095587                Не отвергаем\n",
              "16            8440      14.488152  0.105990                Не отвергаем\n",
              "17            8960      13.303571  0.149344                Не отвергаем\n",
              "18            9480      12.360759  0.193727                Не отвергаем\n",
              "19           10000      13.436000  0.143850                Не отвергаем"
            ],
            "text/html": [
              "\n",
              "  <div id=\"df-6095662a-d0ab-4fd8-9626-2c1afc69f94a\" class=\"colab-df-container\">\n",
              "    <div>\n",
              "<style scoped>\n",
              "    .dataframe tbody tr th:only-of-type {\n",
              "        vertical-align: middle;\n",
              "    }\n",
              "\n",
              "    .dataframe tbody tr th {\n",
              "        vertical-align: top;\n",
              "    }\n",
              "\n",
              "    .dataframe thead th {\n",
              "        text-align: right;\n",
              "    }\n",
              "</style>\n",
              "<table border=\"1\" class=\"dataframe\">\n",
              "  <thead>\n",
              "    <tr style=\"text-align: right;\">\n",
              "      <th></th>\n",
              "      <th>Размер выборки</th>\n",
              "      <th>Статистика χ²</th>\n",
              "      <th>p_value</th>\n",
              "      <th>Решение о принятии гипотезы</th>\n",
              "    </tr>\n",
              "  </thead>\n",
              "  <tbody>\n",
              "    <tr>\n",
              "      <th>0</th>\n",
              "      <td>100</td>\n",
              "      <td>4.800000</td>\n",
              "      <td>0.851383</td>\n",
              "      <td>Не отвергаем</td>\n",
              "    </tr>\n",
              "    <tr>\n",
              "      <th>1</th>\n",
              "      <td>620</td>\n",
              "      <td>8.387097</td>\n",
              "      <td>0.495655</td>\n",
              "      <td>Не отвергаем</td>\n",
              "    </tr>\n",
              "    <tr>\n",
              "      <th>2</th>\n",
              "      <td>1140</td>\n",
              "      <td>8.333333</td>\n",
              "      <td>0.500934</td>\n",
              "      <td>Не отвергаем</td>\n",
              "    </tr>\n",
              "    <tr>\n",
              "      <th>3</th>\n",
              "      <td>1660</td>\n",
              "      <td>5.096386</td>\n",
              "      <td>0.825826</td>\n",
              "      <td>Не отвергаем</td>\n",
              "    </tr>\n",
              "    <tr>\n",
              "      <th>4</th>\n",
              "      <td>2180</td>\n",
              "      <td>5.633028</td>\n",
              "      <td>0.776010</td>\n",
              "      <td>Не отвергаем</td>\n",
              "    </tr>\n",
              "    <tr>\n",
              "      <th>5</th>\n",
              "      <td>2700</td>\n",
              "      <td>7.111111</td>\n",
              "      <td>0.625552</td>\n",
              "      <td>Не отвергаем</td>\n",
              "    </tr>\n",
              "    <tr>\n",
              "      <th>6</th>\n",
              "      <td>3220</td>\n",
              "      <td>10.913043</td>\n",
              "      <td>0.281717</td>\n",
              "      <td>Не отвергаем</td>\n",
              "    </tr>\n",
              "    <tr>\n",
              "      <th>7</th>\n",
              "      <td>3740</td>\n",
              "      <td>12.422460</td>\n",
              "      <td>0.190527</td>\n",
              "      <td>Не отвергаем</td>\n",
              "    </tr>\n",
              "    <tr>\n",
              "      <th>8</th>\n",
              "      <td>4260</td>\n",
              "      <td>8.065728</td>\n",
              "      <td>0.527536</td>\n",
              "      <td>Не отвергаем</td>\n",
              "    </tr>\n",
              "    <tr>\n",
              "      <th>9</th>\n",
              "      <td>4780</td>\n",
              "      <td>6.962343</td>\n",
              "      <td>0.641040</td>\n",
              "      <td>Не отвергаем</td>\n",
              "    </tr>\n",
              "    <tr>\n",
              "      <th>10</th>\n",
              "      <td>5310</td>\n",
              "      <td>10.433145</td>\n",
              "      <td>0.316570</td>\n",
              "      <td>Не отвергаем</td>\n",
              "    </tr>\n",
              "    <tr>\n",
              "      <th>11</th>\n",
              "      <td>5830</td>\n",
              "      <td>11.715266</td>\n",
              "      <td>0.229841</td>\n",
              "      <td>Не отвергаем</td>\n",
              "    </tr>\n",
              "    <tr>\n",
              "      <th>12</th>\n",
              "      <td>6350</td>\n",
              "      <td>11.058268</td>\n",
              "      <td>0.271736</td>\n",
              "      <td>Не отвергаем</td>\n",
              "    </tr>\n",
              "    <tr>\n",
              "      <th>13</th>\n",
              "      <td>6870</td>\n",
              "      <td>13.772926</td>\n",
              "      <td>0.130635</td>\n",
              "      <td>Не отвергаем</td>\n",
              "    </tr>\n",
              "    <tr>\n",
              "      <th>14</th>\n",
              "      <td>7390</td>\n",
              "      <td>12.987821</td>\n",
              "      <td>0.163158</td>\n",
              "      <td>Не отвергаем</td>\n",
              "    </tr>\n",
              "    <tr>\n",
              "      <th>15</th>\n",
              "      <td>7910</td>\n",
              "      <td>14.834387</td>\n",
              "      <td>0.095587</td>\n",
              "      <td>Не отвергаем</td>\n",
              "    </tr>\n",
              "    <tr>\n",
              "      <th>16</th>\n",
              "      <td>8440</td>\n",
              "      <td>14.488152</td>\n",
              "      <td>0.105990</td>\n",
              "      <td>Не отвергаем</td>\n",
              "    </tr>\n",
              "    <tr>\n",
              "      <th>17</th>\n",
              "      <td>8960</td>\n",
              "      <td>13.303571</td>\n",
              "      <td>0.149344</td>\n",
              "      <td>Не отвергаем</td>\n",
              "    </tr>\n",
              "    <tr>\n",
              "      <th>18</th>\n",
              "      <td>9480</td>\n",
              "      <td>12.360759</td>\n",
              "      <td>0.193727</td>\n",
              "      <td>Не отвергаем</td>\n",
              "    </tr>\n",
              "    <tr>\n",
              "      <th>19</th>\n",
              "      <td>10000</td>\n",
              "      <td>13.436000</td>\n",
              "      <td>0.143850</td>\n",
              "      <td>Не отвергаем</td>\n",
              "    </tr>\n",
              "  </tbody>\n",
              "</table>\n",
              "</div>\n",
              "    <div class=\"colab-df-buttons\">\n",
              "\n",
              "  <div class=\"colab-df-container\">\n",
              "    <button class=\"colab-df-convert\" onclick=\"convertToInteractive('df-6095662a-d0ab-4fd8-9626-2c1afc69f94a')\"\n",
              "            title=\"Convert this dataframe to an interactive table.\"\n",
              "            style=\"display:none;\">\n",
              "\n",
              "  <svg xmlns=\"http://www.w3.org/2000/svg\" height=\"24px\" viewBox=\"0 -960 960 960\">\n",
              "    <path d=\"M120-120v-720h720v720H120Zm60-500h600v-160H180v160Zm220 220h160v-160H400v160Zm0 220h160v-160H400v160ZM180-400h160v-160H180v160Zm440 0h160v-160H620v160ZM180-180h160v-160H180v160Zm440 0h160v-160H620v160Z\"/>\n",
              "  </svg>\n",
              "    </button>\n",
              "\n",
              "  <style>\n",
              "    .colab-df-container {\n",
              "      display:flex;\n",
              "      gap: 12px;\n",
              "    }\n",
              "\n",
              "    .colab-df-convert {\n",
              "      background-color: #E8F0FE;\n",
              "      border: none;\n",
              "      border-radius: 50%;\n",
              "      cursor: pointer;\n",
              "      display: none;\n",
              "      fill: #1967D2;\n",
              "      height: 32px;\n",
              "      padding: 0 0 0 0;\n",
              "      width: 32px;\n",
              "    }\n",
              "\n",
              "    .colab-df-convert:hover {\n",
              "      background-color: #E2EBFA;\n",
              "      box-shadow: 0px 1px 2px rgba(60, 64, 67, 0.3), 0px 1px 3px 1px rgba(60, 64, 67, 0.15);\n",
              "      fill: #174EA6;\n",
              "    }\n",
              "\n",
              "    .colab-df-buttons div {\n",
              "      margin-bottom: 4px;\n",
              "    }\n",
              "\n",
              "    [theme=dark] .colab-df-convert {\n",
              "      background-color: #3B4455;\n",
              "      fill: #D2E3FC;\n",
              "    }\n",
              "\n",
              "    [theme=dark] .colab-df-convert:hover {\n",
              "      background-color: #434B5C;\n",
              "      box-shadow: 0px 1px 3px 1px rgba(0, 0, 0, 0.15);\n",
              "      filter: drop-shadow(0px 1px 2px rgba(0, 0, 0, 0.3));\n",
              "      fill: #FFFFFF;\n",
              "    }\n",
              "  </style>\n",
              "\n",
              "    <script>\n",
              "      const buttonEl =\n",
              "        document.querySelector('#df-6095662a-d0ab-4fd8-9626-2c1afc69f94a button.colab-df-convert');\n",
              "      buttonEl.style.display =\n",
              "        google.colab.kernel.accessAllowed ? 'block' : 'none';\n",
              "\n",
              "      async function convertToInteractive(key) {\n",
              "        const element = document.querySelector('#df-6095662a-d0ab-4fd8-9626-2c1afc69f94a');\n",
              "        const dataTable =\n",
              "          await google.colab.kernel.invokeFunction('convertToInteractive',\n",
              "                                                    [key], {});\n",
              "        if (!dataTable) return;\n",
              "\n",
              "        const docLinkHtml = 'Like what you see? Visit the ' +\n",
              "          '<a target=\"_blank\" href=https://colab.research.google.com/notebooks/data_table.ipynb>data table notebook</a>'\n",
              "          + ' to learn more about interactive tables.';\n",
              "        element.innerHTML = '';\n",
              "        dataTable['output_type'] = 'display_data';\n",
              "        await google.colab.output.renderOutput(dataTable, element);\n",
              "        const docLink = document.createElement('div');\n",
              "        docLink.innerHTML = docLinkHtml;\n",
              "        element.appendChild(docLink);\n",
              "      }\n",
              "    </script>\n",
              "  </div>\n",
              "\n",
              "\n",
              "<div id=\"df-2976cbba-9bc7-4cc0-abd7-8196a63b4f34\">\n",
              "  <button class=\"colab-df-quickchart\" onclick=\"quickchart('df-2976cbba-9bc7-4cc0-abd7-8196a63b4f34')\"\n",
              "            title=\"Suggest charts\"\n",
              "            style=\"display:none;\">\n",
              "\n",
              "<svg xmlns=\"http://www.w3.org/2000/svg\" height=\"24px\"viewBox=\"0 0 24 24\"\n",
              "     width=\"24px\">\n",
              "    <g>\n",
              "        <path d=\"M19 3H5c-1.1 0-2 .9-2 2v14c0 1.1.9 2 2 2h14c1.1 0 2-.9 2-2V5c0-1.1-.9-2-2-2zM9 17H7v-7h2v7zm4 0h-2V7h2v10zm4 0h-2v-4h2v4z\"/>\n",
              "    </g>\n",
              "</svg>\n",
              "  </button>\n",
              "\n",
              "<style>\n",
              "  .colab-df-quickchart {\n",
              "      --bg-color: #E8F0FE;\n",
              "      --fill-color: #1967D2;\n",
              "      --hover-bg-color: #E2EBFA;\n",
              "      --hover-fill-color: #174EA6;\n",
              "      --disabled-fill-color: #AAA;\n",
              "      --disabled-bg-color: #DDD;\n",
              "  }\n",
              "\n",
              "  [theme=dark] .colab-df-quickchart {\n",
              "      --bg-color: #3B4455;\n",
              "      --fill-color: #D2E3FC;\n",
              "      --hover-bg-color: #434B5C;\n",
              "      --hover-fill-color: #FFFFFF;\n",
              "      --disabled-bg-color: #3B4455;\n",
              "      --disabled-fill-color: #666;\n",
              "  }\n",
              "\n",
              "  .colab-df-quickchart {\n",
              "    background-color: var(--bg-color);\n",
              "    border: none;\n",
              "    border-radius: 50%;\n",
              "    cursor: pointer;\n",
              "    display: none;\n",
              "    fill: var(--fill-color);\n",
              "    height: 32px;\n",
              "    padding: 0;\n",
              "    width: 32px;\n",
              "  }\n",
              "\n",
              "  .colab-df-quickchart:hover {\n",
              "    background-color: var(--hover-bg-color);\n",
              "    box-shadow: 0 1px 2px rgba(60, 64, 67, 0.3), 0 1px 3px 1px rgba(60, 64, 67, 0.15);\n",
              "    fill: var(--button-hover-fill-color);\n",
              "  }\n",
              "\n",
              "  .colab-df-quickchart-complete:disabled,\n",
              "  .colab-df-quickchart-complete:disabled:hover {\n",
              "    background-color: var(--disabled-bg-color);\n",
              "    fill: var(--disabled-fill-color);\n",
              "    box-shadow: none;\n",
              "  }\n",
              "\n",
              "  .colab-df-spinner {\n",
              "    border: 2px solid var(--fill-color);\n",
              "    border-color: transparent;\n",
              "    border-bottom-color: var(--fill-color);\n",
              "    animation:\n",
              "      spin 1s steps(1) infinite;\n",
              "  }\n",
              "\n",
              "  @keyframes spin {\n",
              "    0% {\n",
              "      border-color: transparent;\n",
              "      border-bottom-color: var(--fill-color);\n",
              "      border-left-color: var(--fill-color);\n",
              "    }\n",
              "    20% {\n",
              "      border-color: transparent;\n",
              "      border-left-color: var(--fill-color);\n",
              "      border-top-color: var(--fill-color);\n",
              "    }\n",
              "    30% {\n",
              "      border-color: transparent;\n",
              "      border-left-color: var(--fill-color);\n",
              "      border-top-color: var(--fill-color);\n",
              "      border-right-color: var(--fill-color);\n",
              "    }\n",
              "    40% {\n",
              "      border-color: transparent;\n",
              "      border-right-color: var(--fill-color);\n",
              "      border-top-color: var(--fill-color);\n",
              "    }\n",
              "    60% {\n",
              "      border-color: transparent;\n",
              "      border-right-color: var(--fill-color);\n",
              "    }\n",
              "    80% {\n",
              "      border-color: transparent;\n",
              "      border-right-color: var(--fill-color);\n",
              "      border-bottom-color: var(--fill-color);\n",
              "    }\n",
              "    90% {\n",
              "      border-color: transparent;\n",
              "      border-bottom-color: var(--fill-color);\n",
              "    }\n",
              "  }\n",
              "</style>\n",
              "\n",
              "  <script>\n",
              "    async function quickchart(key) {\n",
              "      const quickchartButtonEl =\n",
              "        document.querySelector('#' + key + ' button');\n",
              "      quickchartButtonEl.disabled = true;  // To prevent multiple clicks.\n",
              "      quickchartButtonEl.classList.add('colab-df-spinner');\n",
              "      try {\n",
              "        const charts = await google.colab.kernel.invokeFunction(\n",
              "            'suggestCharts', [key], {});\n",
              "      } catch (error) {\n",
              "        console.error('Error during call to suggestCharts:', error);\n",
              "      }\n",
              "      quickchartButtonEl.classList.remove('colab-df-spinner');\n",
              "      quickchartButtonEl.classList.add('colab-df-quickchart-complete');\n",
              "    }\n",
              "    (() => {\n",
              "      let quickchartButtonEl =\n",
              "        document.querySelector('#df-2976cbba-9bc7-4cc0-abd7-8196a63b4f34 button');\n",
              "      quickchartButtonEl.style.display =\n",
              "        google.colab.kernel.accessAllowed ? 'block' : 'none';\n",
              "    })();\n",
              "  </script>\n",
              "</div>\n",
              "    </div>\n",
              "  </div>\n"
            ],
            "application/vnd.google.colaboratory.intrinsic+json": {
              "type": "dataframe",
              "variable_name": "lcg_uniformity",
              "summary": "{\n  \"name\": \"lcg_uniformity\",\n  \"rows\": 20,\n  \"fields\": [\n    {\n      \"column\": \"\\u0420\\u0430\\u0437\\u043c\\u0435\\u0440 \\u0432\\u044b\\u0431\\u043e\\u0440\\u043a\\u0438\",\n      \"properties\": {\n        \"dtype\": \"number\",\n        \"std\": 3083,\n        \"min\": 100,\n        \"max\": 10000,\n        \"num_unique_values\": 20,\n        \"samples\": [\n          100,\n          8960,\n          7910\n        ],\n        \"semantic_type\": \"\",\n        \"description\": \"\"\n      }\n    },\n    {\n      \"column\": \"\\u0421\\u0442\\u0430\\u0442\\u0438\\u0441\\u0442\\u0438\\u043a\\u0430 \\u03c7\\u00b2\",\n      \"properties\": {\n        \"dtype\": \"number\",\n        \"std\": 3.25173125866042,\n        \"min\": 4.800000000000001,\n        \"max\": 14.834386852085967,\n        \"num_unique_values\": 20,\n        \"samples\": [\n          4.800000000000001,\n          13.303571428571429,\n          14.834386852085967\n        ],\n        \"semantic_type\": \"\",\n        \"description\": \"\"\n      }\n    },\n    {\n      \"column\": \"p_value\",\n      \"properties\": {\n        \"dtype\": \"number\",\n        \"std\": 0.25632417843192634,\n        \"min\": 0.0955866972036473,\n        \"max\": 0.851382575356795,\n        \"num_unique_values\": 20,\n        \"samples\": [\n          0.851382575356795,\n          0.14934418136060196,\n          0.0955866972036473\n        ],\n        \"semantic_type\": \"\",\n        \"description\": \"\"\n      }\n    },\n    {\n      \"column\": \"\\u0420\\u0435\\u0448\\u0435\\u043d\\u0438\\u0435 \\u043e \\u043f\\u0440\\u0438\\u043d\\u044f\\u0442\\u0438\\u0438 \\u0433\\u0438\\u043f\\u043e\\u0442\\u0435\\u0437\\u044b\",\n      \"properties\": {\n        \"dtype\": \"category\",\n        \"num_unique_values\": 1,\n        \"samples\": [\n          \"\\u041d\\u0435 \\u043e\\u0442\\u0432\\u0435\\u0440\\u0433\\u0430\\u0435\\u043c\"\n        ],\n        \"semantic_type\": \"\",\n        \"description\": \"\"\n      }\n    }\n  ]\n}"
            }
          },
          "metadata": {},
          "execution_count": 10
        }
      ]
    },
    {
      "cell_type": "code",
      "source": [
        "for i, sample in enumerate(bbs_samples):\n",
        "    chi_stat, p_value = test_uniformity_chi_square(sample)\n",
        "    bbs_uniformity.loc[i] = [len(sample), chi_stat, p_value, 'Отвергаем' if p_value <= 0.05 else 'Не отвергаем']"
      ],
      "metadata": {
        "id": "vZoJfiZGY3vu"
      },
      "execution_count": null,
      "outputs": []
    },
    {
      "cell_type": "code",
      "source": [
        "bbs_uniformity"
      ],
      "metadata": {
        "colab": {
          "base_uri": "https://localhost:8080/",
          "height": 677
        },
        "id": "NLCUKCoLcTKe",
        "outputId": "76799397-f81d-453e-e1e5-1fc5437aa3fe"
      },
      "execution_count": null,
      "outputs": [
        {
          "output_type": "execute_result",
          "data": {
            "text/plain": [
              "    Размер выборки  Статистика χ²        p_value Решение о принятии гипотезы\n",
              "0              100      10.000000   3.504852e-01                Не отвергаем\n",
              "1              620      86.387097   8.617595e-15                   Отвергаем\n",
              "2             1140     168.105263   1.530857e-31                   Отвергаем\n",
              "3             1660     245.277108   9.903128e-48                   Отвергаем\n",
              "4             2180     325.348624   1.083435e-64                   Отвергаем\n",
              "5             2700     405.133333   1.099739e-81                   Отвергаем\n",
              "6             3220     486.006211   5.693295e-99                   Отвергаем\n",
              "7             3740     566.577540  3.103049e-116                   Отвергаем\n",
              "8             4260     645.098592  4.342964e-133                   Отвергаем\n",
              "9             4780     724.916318  3.036563e-150                   Отвергаем\n",
              "10            5310    6254.500942   0.000000e+00                   Отвергаем\n",
              "11            5830    6871.989708   0.000000e+00                   Отвергаем\n",
              "12            6350    7489.480315   0.000000e+00                   Отвергаем\n",
              "13            6870    8106.972344   0.000000e+00                   Отвергаем\n",
              "14            7390    8724.465494   0.000000e+00                   Отвергаем\n",
              "15            7910    9341.959545   0.000000e+00                   Отвергаем\n",
              "16            8440    9970.085308   0.000000e+00                   Отвергаем\n",
              "17            8960   10587.580357   0.000000e+00                   Отвергаем\n",
              "18            9480   11205.075949   0.000000e+00                   Отвергаем\n",
              "19           10000   11822.572000   0.000000e+00                   Отвергаем"
            ],
            "text/html": [
              "\n",
              "  <div id=\"df-6c729a0f-1286-4ba8-a608-ea87fc75c340\" class=\"colab-df-container\">\n",
              "    <div>\n",
              "<style scoped>\n",
              "    .dataframe tbody tr th:only-of-type {\n",
              "        vertical-align: middle;\n",
              "    }\n",
              "\n",
              "    .dataframe tbody tr th {\n",
              "        vertical-align: top;\n",
              "    }\n",
              "\n",
              "    .dataframe thead th {\n",
              "        text-align: right;\n",
              "    }\n",
              "</style>\n",
              "<table border=\"1\" class=\"dataframe\">\n",
              "  <thead>\n",
              "    <tr style=\"text-align: right;\">\n",
              "      <th></th>\n",
              "      <th>Размер выборки</th>\n",
              "      <th>Статистика χ²</th>\n",
              "      <th>p_value</th>\n",
              "      <th>Решение о принятии гипотезы</th>\n",
              "    </tr>\n",
              "  </thead>\n",
              "  <tbody>\n",
              "    <tr>\n",
              "      <th>0</th>\n",
              "      <td>100</td>\n",
              "      <td>10.000000</td>\n",
              "      <td>3.504852e-01</td>\n",
              "      <td>Не отвергаем</td>\n",
              "    </tr>\n",
              "    <tr>\n",
              "      <th>1</th>\n",
              "      <td>620</td>\n",
              "      <td>86.387097</td>\n",
              "      <td>8.617595e-15</td>\n",
              "      <td>Отвергаем</td>\n",
              "    </tr>\n",
              "    <tr>\n",
              "      <th>2</th>\n",
              "      <td>1140</td>\n",
              "      <td>168.105263</td>\n",
              "      <td>1.530857e-31</td>\n",
              "      <td>Отвергаем</td>\n",
              "    </tr>\n",
              "    <tr>\n",
              "      <th>3</th>\n",
              "      <td>1660</td>\n",
              "      <td>245.277108</td>\n",
              "      <td>9.903128e-48</td>\n",
              "      <td>Отвергаем</td>\n",
              "    </tr>\n",
              "    <tr>\n",
              "      <th>4</th>\n",
              "      <td>2180</td>\n",
              "      <td>325.348624</td>\n",
              "      <td>1.083435e-64</td>\n",
              "      <td>Отвергаем</td>\n",
              "    </tr>\n",
              "    <tr>\n",
              "      <th>5</th>\n",
              "      <td>2700</td>\n",
              "      <td>405.133333</td>\n",
              "      <td>1.099739e-81</td>\n",
              "      <td>Отвергаем</td>\n",
              "    </tr>\n",
              "    <tr>\n",
              "      <th>6</th>\n",
              "      <td>3220</td>\n",
              "      <td>486.006211</td>\n",
              "      <td>5.693295e-99</td>\n",
              "      <td>Отвергаем</td>\n",
              "    </tr>\n",
              "    <tr>\n",
              "      <th>7</th>\n",
              "      <td>3740</td>\n",
              "      <td>566.577540</td>\n",
              "      <td>3.103049e-116</td>\n",
              "      <td>Отвергаем</td>\n",
              "    </tr>\n",
              "    <tr>\n",
              "      <th>8</th>\n",
              "      <td>4260</td>\n",
              "      <td>645.098592</td>\n",
              "      <td>4.342964e-133</td>\n",
              "      <td>Отвергаем</td>\n",
              "    </tr>\n",
              "    <tr>\n",
              "      <th>9</th>\n",
              "      <td>4780</td>\n",
              "      <td>724.916318</td>\n",
              "      <td>3.036563e-150</td>\n",
              "      <td>Отвергаем</td>\n",
              "    </tr>\n",
              "    <tr>\n",
              "      <th>10</th>\n",
              "      <td>5310</td>\n",
              "      <td>6254.500942</td>\n",
              "      <td>0.000000e+00</td>\n",
              "      <td>Отвергаем</td>\n",
              "    </tr>\n",
              "    <tr>\n",
              "      <th>11</th>\n",
              "      <td>5830</td>\n",
              "      <td>6871.989708</td>\n",
              "      <td>0.000000e+00</td>\n",
              "      <td>Отвергаем</td>\n",
              "    </tr>\n",
              "    <tr>\n",
              "      <th>12</th>\n",
              "      <td>6350</td>\n",
              "      <td>7489.480315</td>\n",
              "      <td>0.000000e+00</td>\n",
              "      <td>Отвергаем</td>\n",
              "    </tr>\n",
              "    <tr>\n",
              "      <th>13</th>\n",
              "      <td>6870</td>\n",
              "      <td>8106.972344</td>\n",
              "      <td>0.000000e+00</td>\n",
              "      <td>Отвергаем</td>\n",
              "    </tr>\n",
              "    <tr>\n",
              "      <th>14</th>\n",
              "      <td>7390</td>\n",
              "      <td>8724.465494</td>\n",
              "      <td>0.000000e+00</td>\n",
              "      <td>Отвергаем</td>\n",
              "    </tr>\n",
              "    <tr>\n",
              "      <th>15</th>\n",
              "      <td>7910</td>\n",
              "      <td>9341.959545</td>\n",
              "      <td>0.000000e+00</td>\n",
              "      <td>Отвергаем</td>\n",
              "    </tr>\n",
              "    <tr>\n",
              "      <th>16</th>\n",
              "      <td>8440</td>\n",
              "      <td>9970.085308</td>\n",
              "      <td>0.000000e+00</td>\n",
              "      <td>Отвергаем</td>\n",
              "    </tr>\n",
              "    <tr>\n",
              "      <th>17</th>\n",
              "      <td>8960</td>\n",
              "      <td>10587.580357</td>\n",
              "      <td>0.000000e+00</td>\n",
              "      <td>Отвергаем</td>\n",
              "    </tr>\n",
              "    <tr>\n",
              "      <th>18</th>\n",
              "      <td>9480</td>\n",
              "      <td>11205.075949</td>\n",
              "      <td>0.000000e+00</td>\n",
              "      <td>Отвергаем</td>\n",
              "    </tr>\n",
              "    <tr>\n",
              "      <th>19</th>\n",
              "      <td>10000</td>\n",
              "      <td>11822.572000</td>\n",
              "      <td>0.000000e+00</td>\n",
              "      <td>Отвергаем</td>\n",
              "    </tr>\n",
              "  </tbody>\n",
              "</table>\n",
              "</div>\n",
              "    <div class=\"colab-df-buttons\">\n",
              "\n",
              "  <div class=\"colab-df-container\">\n",
              "    <button class=\"colab-df-convert\" onclick=\"convertToInteractive('df-6c729a0f-1286-4ba8-a608-ea87fc75c340')\"\n",
              "            title=\"Convert this dataframe to an interactive table.\"\n",
              "            style=\"display:none;\">\n",
              "\n",
              "  <svg xmlns=\"http://www.w3.org/2000/svg\" height=\"24px\" viewBox=\"0 -960 960 960\">\n",
              "    <path d=\"M120-120v-720h720v720H120Zm60-500h600v-160H180v160Zm220 220h160v-160H400v160Zm0 220h160v-160H400v160ZM180-400h160v-160H180v160Zm440 0h160v-160H620v160ZM180-180h160v-160H180v160Zm440 0h160v-160H620v160Z\"/>\n",
              "  </svg>\n",
              "    </button>\n",
              "\n",
              "  <style>\n",
              "    .colab-df-container {\n",
              "      display:flex;\n",
              "      gap: 12px;\n",
              "    }\n",
              "\n",
              "    .colab-df-convert {\n",
              "      background-color: #E8F0FE;\n",
              "      border: none;\n",
              "      border-radius: 50%;\n",
              "      cursor: pointer;\n",
              "      display: none;\n",
              "      fill: #1967D2;\n",
              "      height: 32px;\n",
              "      padding: 0 0 0 0;\n",
              "      width: 32px;\n",
              "    }\n",
              "\n",
              "    .colab-df-convert:hover {\n",
              "      background-color: #E2EBFA;\n",
              "      box-shadow: 0px 1px 2px rgba(60, 64, 67, 0.3), 0px 1px 3px 1px rgba(60, 64, 67, 0.15);\n",
              "      fill: #174EA6;\n",
              "    }\n",
              "\n",
              "    .colab-df-buttons div {\n",
              "      margin-bottom: 4px;\n",
              "    }\n",
              "\n",
              "    [theme=dark] .colab-df-convert {\n",
              "      background-color: #3B4455;\n",
              "      fill: #D2E3FC;\n",
              "    }\n",
              "\n",
              "    [theme=dark] .colab-df-convert:hover {\n",
              "      background-color: #434B5C;\n",
              "      box-shadow: 0px 1px 3px 1px rgba(0, 0, 0, 0.15);\n",
              "      filter: drop-shadow(0px 1px 2px rgba(0, 0, 0, 0.3));\n",
              "      fill: #FFFFFF;\n",
              "    }\n",
              "  </style>\n",
              "\n",
              "    <script>\n",
              "      const buttonEl =\n",
              "        document.querySelector('#df-6c729a0f-1286-4ba8-a608-ea87fc75c340 button.colab-df-convert');\n",
              "      buttonEl.style.display =\n",
              "        google.colab.kernel.accessAllowed ? 'block' : 'none';\n",
              "\n",
              "      async function convertToInteractive(key) {\n",
              "        const element = document.querySelector('#df-6c729a0f-1286-4ba8-a608-ea87fc75c340');\n",
              "        const dataTable =\n",
              "          await google.colab.kernel.invokeFunction('convertToInteractive',\n",
              "                                                    [key], {});\n",
              "        if (!dataTable) return;\n",
              "\n",
              "        const docLinkHtml = 'Like what you see? Visit the ' +\n",
              "          '<a target=\"_blank\" href=https://colab.research.google.com/notebooks/data_table.ipynb>data table notebook</a>'\n",
              "          + ' to learn more about interactive tables.';\n",
              "        element.innerHTML = '';\n",
              "        dataTable['output_type'] = 'display_data';\n",
              "        await google.colab.output.renderOutput(dataTable, element);\n",
              "        const docLink = document.createElement('div');\n",
              "        docLink.innerHTML = docLinkHtml;\n",
              "        element.appendChild(docLink);\n",
              "      }\n",
              "    </script>\n",
              "  </div>\n",
              "\n",
              "\n",
              "<div id=\"df-b931c196-a2ac-4103-9266-60fcbaea59f5\">\n",
              "  <button class=\"colab-df-quickchart\" onclick=\"quickchart('df-b931c196-a2ac-4103-9266-60fcbaea59f5')\"\n",
              "            title=\"Suggest charts\"\n",
              "            style=\"display:none;\">\n",
              "\n",
              "<svg xmlns=\"http://www.w3.org/2000/svg\" height=\"24px\"viewBox=\"0 0 24 24\"\n",
              "     width=\"24px\">\n",
              "    <g>\n",
              "        <path d=\"M19 3H5c-1.1 0-2 .9-2 2v14c0 1.1.9 2 2 2h14c1.1 0 2-.9 2-2V5c0-1.1-.9-2-2-2zM9 17H7v-7h2v7zm4 0h-2V7h2v10zm4 0h-2v-4h2v4z\"/>\n",
              "    </g>\n",
              "</svg>\n",
              "  </button>\n",
              "\n",
              "<style>\n",
              "  .colab-df-quickchart {\n",
              "      --bg-color: #E8F0FE;\n",
              "      --fill-color: #1967D2;\n",
              "      --hover-bg-color: #E2EBFA;\n",
              "      --hover-fill-color: #174EA6;\n",
              "      --disabled-fill-color: #AAA;\n",
              "      --disabled-bg-color: #DDD;\n",
              "  }\n",
              "\n",
              "  [theme=dark] .colab-df-quickchart {\n",
              "      --bg-color: #3B4455;\n",
              "      --fill-color: #D2E3FC;\n",
              "      --hover-bg-color: #434B5C;\n",
              "      --hover-fill-color: #FFFFFF;\n",
              "      --disabled-bg-color: #3B4455;\n",
              "      --disabled-fill-color: #666;\n",
              "  }\n",
              "\n",
              "  .colab-df-quickchart {\n",
              "    background-color: var(--bg-color);\n",
              "    border: none;\n",
              "    border-radius: 50%;\n",
              "    cursor: pointer;\n",
              "    display: none;\n",
              "    fill: var(--fill-color);\n",
              "    height: 32px;\n",
              "    padding: 0;\n",
              "    width: 32px;\n",
              "  }\n",
              "\n",
              "  .colab-df-quickchart:hover {\n",
              "    background-color: var(--hover-bg-color);\n",
              "    box-shadow: 0 1px 2px rgba(60, 64, 67, 0.3), 0 1px 3px 1px rgba(60, 64, 67, 0.15);\n",
              "    fill: var(--button-hover-fill-color);\n",
              "  }\n",
              "\n",
              "  .colab-df-quickchart-complete:disabled,\n",
              "  .colab-df-quickchart-complete:disabled:hover {\n",
              "    background-color: var(--disabled-bg-color);\n",
              "    fill: var(--disabled-fill-color);\n",
              "    box-shadow: none;\n",
              "  }\n",
              "\n",
              "  .colab-df-spinner {\n",
              "    border: 2px solid var(--fill-color);\n",
              "    border-color: transparent;\n",
              "    border-bottom-color: var(--fill-color);\n",
              "    animation:\n",
              "      spin 1s steps(1) infinite;\n",
              "  }\n",
              "\n",
              "  @keyframes spin {\n",
              "    0% {\n",
              "      border-color: transparent;\n",
              "      border-bottom-color: var(--fill-color);\n",
              "      border-left-color: var(--fill-color);\n",
              "    }\n",
              "    20% {\n",
              "      border-color: transparent;\n",
              "      border-left-color: var(--fill-color);\n",
              "      border-top-color: var(--fill-color);\n",
              "    }\n",
              "    30% {\n",
              "      border-color: transparent;\n",
              "      border-left-color: var(--fill-color);\n",
              "      border-top-color: var(--fill-color);\n",
              "      border-right-color: var(--fill-color);\n",
              "    }\n",
              "    40% {\n",
              "      border-color: transparent;\n",
              "      border-right-color: var(--fill-color);\n",
              "      border-top-color: var(--fill-color);\n",
              "    }\n",
              "    60% {\n",
              "      border-color: transparent;\n",
              "      border-right-color: var(--fill-color);\n",
              "    }\n",
              "    80% {\n",
              "      border-color: transparent;\n",
              "      border-right-color: var(--fill-color);\n",
              "      border-bottom-color: var(--fill-color);\n",
              "    }\n",
              "    90% {\n",
              "      border-color: transparent;\n",
              "      border-bottom-color: var(--fill-color);\n",
              "    }\n",
              "  }\n",
              "</style>\n",
              "\n",
              "  <script>\n",
              "    async function quickchart(key) {\n",
              "      const quickchartButtonEl =\n",
              "        document.querySelector('#' + key + ' button');\n",
              "      quickchartButtonEl.disabled = true;  // To prevent multiple clicks.\n",
              "      quickchartButtonEl.classList.add('colab-df-spinner');\n",
              "      try {\n",
              "        const charts = await google.colab.kernel.invokeFunction(\n",
              "            'suggestCharts', [key], {});\n",
              "      } catch (error) {\n",
              "        console.error('Error during call to suggestCharts:', error);\n",
              "      }\n",
              "      quickchartButtonEl.classList.remove('colab-df-spinner');\n",
              "      quickchartButtonEl.classList.add('colab-df-quickchart-complete');\n",
              "    }\n",
              "    (() => {\n",
              "      let quickchartButtonEl =\n",
              "        document.querySelector('#df-b931c196-a2ac-4103-9266-60fcbaea59f5 button');\n",
              "      quickchartButtonEl.style.display =\n",
              "        google.colab.kernel.accessAllowed ? 'block' : 'none';\n",
              "    })();\n",
              "  </script>\n",
              "</div>\n",
              "    </div>\n",
              "  </div>\n"
            ],
            "application/vnd.google.colaboratory.intrinsic+json": {
              "type": "dataframe",
              "variable_name": "bbs_uniformity",
              "summary": "{\n  \"name\": \"bbs_uniformity\",\n  \"rows\": 20,\n  \"fields\": [\n    {\n      \"column\": \"\\u0420\\u0430\\u0437\\u043c\\u0435\\u0440 \\u0432\\u044b\\u0431\\u043e\\u0440\\u043a\\u0438\",\n      \"properties\": {\n        \"dtype\": \"number\",\n        \"std\": 3083,\n        \"min\": 100,\n        \"max\": 10000,\n        \"num_unique_values\": 20,\n        \"samples\": [\n          100,\n          8960,\n          7910\n        ],\n        \"semantic_type\": \"\",\n        \"description\": \"\"\n      }\n    },\n    {\n      \"column\": \"\\u0421\\u0442\\u0430\\u0442\\u0438\\u0441\\u0442\\u0438\\u043a\\u0430 \\u03c7\\u00b2\",\n      \"properties\": {\n        \"dtype\": \"number\",\n        \"std\": 4634.454521194574,\n        \"min\": 10.0,\n        \"max\": 11822.572,\n        \"num_unique_values\": 20,\n        \"samples\": [\n          10.0,\n          10587.580357142857,\n          9341.959544879897\n        ],\n        \"semantic_type\": \"\",\n        \"description\": \"\"\n      }\n    },\n    {\n      \"column\": \"p_value\",\n      \"properties\": {\n        \"dtype\": \"number\",\n        \"std\": 0.07837087598634818,\n        \"min\": 0.0,\n        \"max\": 0.3504852123233613,\n        \"num_unique_values\": 11,\n        \"samples\": [\n          1.099738930568062e-81,\n          0.3504852123233613,\n          3.0365628582347523e-150\n        ],\n        \"semantic_type\": \"\",\n        \"description\": \"\"\n      }\n    },\n    {\n      \"column\": \"\\u0420\\u0435\\u0448\\u0435\\u043d\\u0438\\u0435 \\u043e \\u043f\\u0440\\u0438\\u043d\\u044f\\u0442\\u0438\\u0438 \\u0433\\u0438\\u043f\\u043e\\u0442\\u0435\\u0437\\u044b\",\n      \"properties\": {\n        \"dtype\": \"category\",\n        \"num_unique_values\": 2,\n        \"samples\": [\n          \"\\u041e\\u0442\\u0432\\u0435\\u0440\\u0433\\u0430\\u0435\\u043c\",\n          \"\\u041d\\u0435 \\u043e\\u0442\\u0432\\u0435\\u0440\\u0433\\u0430\\u0435\\u043c\"\n        ],\n        \"semantic_type\": \"\",\n        \"description\": \"\"\n      }\n    }\n  ]\n}"
            }
          },
          "metadata": {},
          "execution_count": 170
        }
      ]
    },
    {
      "cell_type": "markdown",
      "source": [
        "# 5. Для каждого алгоритма осуществить проверку с помощью не менее 3-х тестов NIST и/или Diehard"
      ],
      "metadata": {
        "id": "TCL7XfxTyv0J"
      }
    },
    {
      "cell_type": "markdown",
      "source": [
        "## Birthday spacings"
      ],
      "metadata": {
        "id": "n9OjSlT31f8b"
      }
    },
    {
      "cell_type": "code",
      "source": [
        "import matplotlib.pyplot as plt"
      ],
      "metadata": {
        "id": "egMoiOXGPWLz"
      },
      "execution_count": null,
      "outputs": []
    },
    {
      "cell_type": "code",
      "source": [
        "from scipy.stats import poisson\n",
        "import scipy"
      ],
      "metadata": {
        "id": "jflnF4gHMT4W"
      },
      "execution_count": null,
      "outputs": []
    },
    {
      "cell_type": "code",
      "source": [
        "n = 2**24\n",
        "m = 1024"
      ],
      "metadata": {
        "id": "5LMVYoocJff8"
      },
      "execution_count": null,
      "outputs": []
    },
    {
      "cell_type": "code",
      "source": [
        "def poisson_distribution_check(sample, lamda=16):\n",
        "    sample = np.array(sample)\n",
        "    observed = [np.sum(sample == x) for x in range(5)]\n",
        "    observed.append(np.sum(sample > 5))\n",
        "    expected = [poisson.pmf(k=x, mu=16) * len(sample) for x in range(5)]\n",
        "    expected.append(len(sample) - np.sum(expected))\n",
        "\n",
        "    chi_stat, p_value = chisquare(f_obs=observed, f_exp=expected)\n",
        "    return p_value > 0.01"
      ],
      "metadata": {
        "id": "H5JkLs4rLxu4"
      },
      "execution_count": null,
      "outputs": []
    },
    {
      "cell_type": "code",
      "source": [
        "j_lcg = []\n",
        "\n",
        "for _ in range(5000):\n",
        "    sample = sorted(modified_lcg(m=n, size=m))\n",
        "    spacings = np.diff(sample)\n",
        "    values, counts = np.unique(sample, return_counts=True)\n",
        "    j = values[counts > 1].size\n",
        "    j_lcg.append(j)"
      ],
      "metadata": {
        "id": "KNXM7gbeJna4"
      },
      "execution_count": null,
      "outputs": []
    },
    {
      "cell_type": "code",
      "source": [
        "poisson_distribution_check(j_lcg)"
      ],
      "metadata": {
        "colab": {
          "base_uri": "https://localhost:8080/"
        },
        "id": "xJJpwCjJYeZ6",
        "outputId": "f87b16e7-bf0b-48cd-ceaf-c9d53708bd71"
      },
      "execution_count": null,
      "outputs": [
        {
          "output_type": "execute_result",
          "data": {
            "text/plain": [
              "False"
            ]
          },
          "metadata": {},
          "execution_count": 176
        }
      ]
    },
    {
      "cell_type": "code",
      "source": [
        "j_bbs = []\n",
        "\n",
        "for _ in range(1000):\n",
        "    sample = sorted(blum_blum_shub(bits=24, size=m))\n",
        "    spacings = np.diff(sample)\n",
        "    values, counts = np.unique(sample, return_counts=True)\n",
        "    j = values[counts > 1].size\n",
        "    j_bbs.append(j)"
      ],
      "metadata": {
        "id": "oLCYBV72OKft"
      },
      "execution_count": null,
      "outputs": []
    },
    {
      "cell_type": "code",
      "source": [
        "poisson_distribution_check(j_bbs)"
      ],
      "metadata": {
        "colab": {
          "base_uri": "https://localhost:8080/"
        },
        "id": "iqgUwzLiYw-h",
        "outputId": "f7d7522d-c135-411f-e0f9-f915331c8add"
      },
      "execution_count": null,
      "outputs": [
        {
          "output_type": "execute_result",
          "data": {
            "text/plain": [
              "False"
            ]
          },
          "metadata": {},
          "execution_count": 178
        }
      ]
    },
    {
      "cell_type": "markdown",
      "source": [
        "## Frequency Test within a Block"
      ],
      "metadata": {
        "id": "R1WeXDITZfGF"
      }
    },
    {
      "cell_type": "markdown",
      "source": [
        "The focus of the test is the proportion of ones within M-bit blocks. The purpose of this test is to determine whether the frequency of ones in an M-bit block is approximately M/2, as would be expected under an assumption of randomness."
      ],
      "metadata": {
        "id": "LOA83s8KZHgr"
      }
    },
    {
      "cell_type": "code",
      "source": [
        "def block_frequency(sample, M=10, alpha=0.01):\n",
        "    n = len(sample) // M\n",
        "    sample = np.array(sample).reshape(M, -1)\n",
        "    proba = np.zeros(M)\n",
        "    for i in range(M):\n",
        "        proba[i] = np.sum(sample[i]) / n\n",
        "    stat = 4 * M * np.sum((proba - 1/2) ** 2)\n",
        "    p_value = scipy.special.gammaincc(n / 2, stat / 2)\n",
        "    return p_value > 0.01\n"
      ],
      "metadata": {
        "id": "a6BJ9DhPabKf"
      },
      "execution_count": null,
      "outputs": []
    },
    {
      "cell_type": "code",
      "source": [
        "block_frequency(modified_lcg(m=2, size=100))"
      ],
      "metadata": {
        "colab": {
          "base_uri": "https://localhost:8080/"
        },
        "id": "bWQItgB2dGZz",
        "outputId": "2c1e2eb5-1a72-408f-feb0-961187612bc7"
      },
      "execution_count": null,
      "outputs": [
        {
          "output_type": "execute_result",
          "data": {
            "text/plain": [
              "True"
            ]
          },
          "metadata": {},
          "execution_count": 180
        }
      ]
    },
    {
      "cell_type": "code",
      "source": [
        "block_frequency(blum_blum_shub(bits=1, size=100))"
      ],
      "metadata": {
        "colab": {
          "base_uri": "https://localhost:8080/"
        },
        "id": "0uRiso2Pd_8l",
        "outputId": "0d9bc026-d31a-4a55-8778-df974200e74a"
      },
      "execution_count": null,
      "outputs": [
        {
          "output_type": "execute_result",
          "data": {
            "text/plain": [
              "False"
            ]
          },
          "metadata": {},
          "execution_count": 181
        }
      ]
    },
    {
      "cell_type": "markdown",
      "source": [
        "## Runs Test"
      ],
      "metadata": {
        "id": "XruPZ7QOkGhL"
      }
    },
    {
      "cell_type": "markdown",
      "source": [
        "The focus of this test is the total number of runs in the sequence, where a run is an uninterrupted sequence of identical bits. A run of length k consists of exactly k identical bits and is bounded before and after with a bit of the opposite value. The purpose of the runs test is to determine whether the number of runs of ones and zeros of various lengths is as expected for a random sequence."
      ],
      "metadata": {
        "id": "faOAFFkFm_v6"
      }
    },
    {
      "cell_type": "code",
      "source": [
        "from scipy.stats import norm\n",
        "\n",
        "def runs_test(bits):\n",
        "\n",
        "    n = len(bits)\n",
        "    if n < 2:\n",
        "        raise ValueError(\"The sequence is too short to perform the runs test.\")\n",
        "\n",
        "    runs = 1\n",
        "    for i in range(1, n):\n",
        "        if bits[i] != bits[i - 1]:\n",
        "            runs += 1\n",
        "\n",
        "    pi = bits.count('1') / n\n",
        "    expected_runs = 2 * n * pi * (1 - pi)\n",
        "    variance = 2 * n * pi * (1 - pi) * (2 * n * pi * (1 - pi) - 1) / (n - 1)\n",
        "\n",
        "    z = (runs - expected_runs) / np.sqrt(variance)\n",
        "\n",
        "    p_value = 2 * (1 - norm.cdf(abs(z)))\n",
        "\n",
        "    return p_value > 0.01\n"
      ],
      "metadata": {
        "id": "D6DkEApEm5_H"
      },
      "execution_count": null,
      "outputs": []
    },
    {
      "cell_type": "code",
      "source": [
        "runs_test(''.join([bin(el)[2:] for el in modified_lcg(size=1000)]))"
      ],
      "metadata": {
        "colab": {
          "base_uri": "https://localhost:8080/"
        },
        "id": "a5MoJD9SnPg8",
        "outputId": "d28128e6-5668-4570-8d66-b6eb34e948d5"
      },
      "execution_count": null,
      "outputs": [
        {
          "output_type": "execute_result",
          "data": {
            "text/plain": [
              "True"
            ]
          },
          "metadata": {},
          "execution_count": 183
        }
      ]
    },
    {
      "cell_type": "code",
      "source": [
        "runs_test(''.join([bin(el)[2:] for el in blum_blum_shub(size=1000)]))"
      ],
      "metadata": {
        "colab": {
          "base_uri": "https://localhost:8080/"
        },
        "id": "AoTOaKpDogPN",
        "outputId": "71544117-4284-455b-ad61-3827efee31e2"
      },
      "execution_count": null,
      "outputs": [
        {
          "output_type": "execute_result",
          "data": {
            "text/plain": [
              "False"
            ]
          },
          "metadata": {},
          "execution_count": 184
        }
      ]
    },
    {
      "cell_type": "markdown",
      "source": [
        "# 6. Сравнение времени работы"
      ],
      "metadata": {
        "id": "e0AZ1kxAlQ3A"
      }
    },
    {
      "cell_type": "code",
      "source": [
        "import matplotlib.pyplot as plt"
      ],
      "metadata": {
        "id": "V0RlZ5dQnHab"
      },
      "execution_count": null,
      "outputs": []
    },
    {
      "cell_type": "code",
      "source": [
        "sample_sizes = np.linspace(1e4, 1e6, 10, dtype=int)"
      ],
      "metadata": {
        "id": "uu5zWpz6lpbN"
      },
      "execution_count": null,
      "outputs": []
    },
    {
      "cell_type": "code",
      "source": [
        "lcg_time = []\n",
        "bbs_time = []\n",
        "rnd_time = []"
      ],
      "metadata": {
        "id": "RlTKjoHilw9D"
      },
      "execution_count": null,
      "outputs": []
    },
    {
      "cell_type": "code",
      "source": [
        "for size in sample_sizes :\n",
        "    start = time.time()\n",
        "    modified_lcg(size=size)\n",
        "    finish = time.time()\n",
        "    lcg_time.append(finish - start)\n",
        "\n",
        "    start = time.time()\n",
        "    blum_blum_shub(size=size)\n",
        "    finish = time.time()\n",
        "    bbs_time.append(finish - start)\n",
        "\n",
        "    start = time.time()\n",
        "    np.random.random(size=size)\n",
        "    finish = time.time()\n",
        "    rnd_time.append(finish - start)"
      ],
      "metadata": {
        "id": "hiWf0wu1iAy8"
      },
      "execution_count": null,
      "outputs": []
    },
    {
      "cell_type": "code",
      "source": [
        "plt.plot(sample_sizes, bbs_time, label='BBS', marker='o', linewidth=2)\n",
        "plt.plot(sample_sizes, lcg_time, label='LCG', marker='o', linewidth=2)\n",
        "plt.plot(sample_sizes, rnd_time, label='python native', marker='o', linewidth=2)\n",
        "\n",
        "plt.xlabel(\"size\")\n",
        "plt.ylabel(\"time\")\n",
        "plt.yscale('log')\n",
        "\n",
        "plt.legend()\n",
        "plt.show()"
      ],
      "metadata": {
        "colab": {
          "base_uri": "https://localhost:8080/",
          "height": 449
        },
        "id": "SH3_5hg7nE30",
        "outputId": "d4e22575-692a-4f98-fcce-8b62184d9ccd"
      },
      "execution_count": null,
      "outputs": [
        {
          "output_type": "display_data",
          "data": {
            "text/plain": [
              "<Figure size 640x480 with 1 Axes>"
            ],
            "image/png": "[encoded data removed]"
          },
          "metadata": {}
        }
      ]
    }
  ]
}