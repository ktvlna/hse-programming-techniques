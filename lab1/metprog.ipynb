{
  "cells": [
    {
      "cell_type": "code",
      "execution_count": null,
      "metadata": {
        "id": "7WmMKfNg2VDo"
      },
      "outputs": [],
      "source": [
        "from datetime import datetime\n",
        "from faker import Faker\n",
        "import random\n",
        "import csv\n",
        "import matplotlib.pyplot as plt\n",
        "import seaborn as sns\n",
        "import numpy as np\n",
        "\n",
        "plt.style.use('ggplot')\n",
        "sns.set_palette('rocket')"
      ]
    },
    {
      "cell_type": "markdown",
      "metadata": {
        "id": "ltvaE9vu0S3Z"
      },
      "source": [
        "# Класс Пассажир"
      ]
    },
    {
      "cell_type": "code",
      "execution_count": null,
      "metadata": {
        "id": "TO1196kmyGjh"
      },
      "outputs": [],
      "source": [
        "class Passenger:\n",
        "    \"\"\"\n",
        "    Класс для хранения информации о пассажирах авиакомпании.\n",
        "    - flight_number: str - номер рейса\n",
        "    - flight_date: datetime - дата рейса\n",
        "    - name: str - ФИО пассажира\n",
        "    - seat_number: str - номер места в самолете\n",
        "    \"\"\"\n",
        "\n",
        "    def __init__(self, name, flight_date, flight_number, seat_number) -> None:\n",
        "        self.flight_number = flight_number\n",
        "        self.flight_date = flight_date\n",
        "        self.name = name\n",
        "        self.seat_number = seat_number\n",
        "\n",
        "    def __str__(self) -> str:\n",
        "        return f\"'ФИО пассажира: {self.name}\\nДата рейса: {self.flight_date}\\nНомер рейса: {self.flight_number}\\nНомер места: {self.seat_number}'\"\n",
        "\n",
        "    def __eq__(self, passenger: \"Passenger\") -> bool:\n",
        "        if not isinstance(passenger, Passenger):\n",
        "            raise TypeError(f\"Сравнение с {type(passenger).__name__} не поддерживается\")\n",
        "\n",
        "        return all(\n",
        "            [\n",
        "                self.flight_date == passenger.flight_date,\n",
        "                self.flight_number == passenger.flight_number,\n",
        "                self.name == passenger.name,\n",
        "                self.seat_number == passenger.seat_number\n",
        "            ]\n",
        "        )\n",
        "\n",
        "    def __ne__(self, passenger: \"Passenger\") -> bool:\n",
        "        return not self.__eq__(passenger)\n",
        "\n",
        "    def __lt__(self, passenger: \"Passenger\") -> bool:\n",
        "        if not isinstance(passenger, Passenger):\n",
        "            raise TypeError(f\"Сравнение с {type(passenger).__name__} не поддерживается\")\n",
        "\n",
        "        if self.flight_date != passenger.flight_date:\n",
        "            return self.flight_date < passenger.flight_date\n",
        "        elif self.flight_number != passenger.flight_number:\n",
        "            return self.flight_number < passenger.flight_number\n",
        "        elif self.name != passenger.name:\n",
        "            return self.name < passenger.name\n",
        "        else:\n",
        "            return self.seat_number < passenger.seat_number\n",
        "\n",
        "    def __le__(self, passenger: \"Passenger\") -> bool:\n",
        "        return self.__lt__(passenger) or self.__eq__(passenger)\n",
        "\n",
        "    def __ge__(self, passenger: \"Passenger\") -> bool:\n",
        "        return not self.__lt__(passenger)\n",
        "\n",
        "    def __gt__(self, passenger: \"Passenger\") -> bool:\n",
        "        return not self.__lt__(passenger) and not self.__eq__(passenger)\n",
        "\n",
        "    def show_info(self):\n",
        "        print(f'ФИО пассажира: {self.name}\\nДата рейса: {self.flight_date}\\nНомер рейса: {self.flight_number}\\nНомер места: {self.seat_number}')\n",
        "\n",
        "    def get_data_as_list(self) -> list:\n",
        "        return [self.name, self.flight_date, self.flight_number, self.seat_number]"
      ]
    },
    {
      "cell_type": "markdown",
      "metadata": {
        "id": "jgNAvDQ40XCS"
      },
      "source": [
        "# Генерация данных"
      ]
    },
    {
      "cell_type": "code",
      "execution_count": null,
      "metadata": {
        "id": "2c0efES_Gc4a"
      },
      "outputs": [],
      "source": [
        "def generate_passenger():\n",
        "    fake = Faker('ru_RU')\n",
        "    return Passenger(\n",
        "        name = f\"{fake.last_name_male()} {fake.first_name_male()} {fake.middle_name_male()}\",\n",
        "        flight_number = f'{fake.random_uppercase_letter()}{fake.random_uppercase_letter()} {fake.random_int(100, 9999)}',\n",
        "        flight_date = fake.date_between(start_date=\"-1y\"),\n",
        "        seat_number = f\"{random.randint(1, 20)}{random.choice('ABCD')}\")"
      ]
    },
    {
      "cell_type": "code",
      "execution_count": null,
      "metadata": {
        "id": "NB33s-ug9TuA"
      },
      "outputs": [],
      "source": [
        "def get_list_of_passengers(n = 10):\n",
        "    passengers = []\n",
        "    for _ in range(n):\n",
        "        passengers.append(generate_passenger())\n",
        "    return passengers"
      ]
    },
    {
      "cell_type": "code",
      "execution_count": null,
      "metadata": {
        "id": "5x3vTQUHC5Bv"
      },
      "outputs": [],
      "source": [
        "for n in [100, 500, 1000, 5000, 10000, 50000, 100000, 100500]:\n",
        "    passengers = get_list_of_passengers(n)\n",
        "    with open(f'passengers{n}.csv', 'w', newline='') as file:\n",
        "        writer = csv.writer(file)\n",
        "        writer.writerow(['Имя пассажира', 'Дата рейса', 'Номер рейса', 'Номер места'])\n",
        "        for passenger in passengers:\n",
        "            writer.writerow(passenger.get_data_as_list())"
      ]
    },
    {
      "cell_type": "markdown",
      "metadata": {
        "id": "sd2uGvdAMn-Q"
      },
      "source": [
        "# Считывание данных"
      ]
    },
    {
      "cell_type": "code",
      "source": [
        "from google.colab import drive\n",
        "drive.mount('/content/drive/')"
      ],
      "metadata": {
        "colab": {
          "base_uri": "https://localhost:8080/"
        },
        "id": "BkLyJoOUu3VO",
        "outputId": "d5e01361-7c69-4e0e-9af9-2c8fbeb90e53"
      },
      "execution_count": null,
      "outputs": [
        {
          "output_type": "stream",
          "name": "stdout",
          "text": [
            "Mounted at /content/drive/\n"
          ]
        }
      ]
    },
    {
      "cell_type": "code",
      "execution_count": null,
      "metadata": {
        "id": "SvuIu0luDxBW"
      },
      "outputs": [],
      "source": [
        "passengers = []\n",
        "for n in [100, 500, 1000, 5000, 10000, 50000, 100000, 100500]:\n",
        "    tmp = []\n",
        "    with open(f'/content/drive/MyDrive/data/passengers{n}.csv', 'r') as file:\n",
        "        reader = csv.reader(file)\n",
        "        next(reader)\n",
        "        for row in reader:\n",
        "            if row:\n",
        "                passenger = Passenger(*row)\n",
        "                tmp.append(passenger)\n",
        "        passengers.append(tmp)"
      ]
    },
    {
      "cell_type": "markdown",
      "metadata": {
        "id": "uRcTjSR8RA2z"
      },
      "source": [
        "# Сортировки"
      ]
    },
    {
      "cell_type": "markdown",
      "metadata": {
        "id": "eu4rG1urRD1B"
      },
      "source": [
        "## Пузырьком"
      ]
    },
    {
      "cell_type": "code",
      "execution_count": null,
      "metadata": {
        "id": "6aJoqN4TRcZi"
      },
      "outputs": [],
      "source": [
        "def bubble_sort(arr: list) -> None:\n",
        "    for i in range(len(arr)):\n",
        "        for j in range(len(arr) - i - 1):\n",
        "            if arr[j] > arr[j + 1]:\n",
        "                arr[j], arr[j + 1] = arr[j + 1], arr[j]"
      ]
    },
    {
      "cell_type": "markdown",
      "metadata": {
        "id": "W-hizgAJRGyl"
      },
      "source": [
        "## Простыми вставками"
      ]
    },
    {
      "cell_type": "code",
      "execution_count": null,
      "metadata": {
        "id": "yVe4bu9CRc2y"
      },
      "outputs": [],
      "source": [
        "def insert_sort(arr: list) -> None:\n",
        "    for i in range(len(arr)):\n",
        "        print(i)\n",
        "        j = i - 1\n",
        "        key = arr[i]\n",
        "        while arr[j] > key and j >= 0:\n",
        "            arr[j + 1] = arr[j]\n",
        "            j -= 1\n",
        "        arr[j + 1] = key"
      ]
    },
    {
      "cell_type": "markdown",
      "metadata": {
        "id": "C1wu7mSERS7u"
      },
      "source": [
        "## Пирамидальная"
      ]
    },
    {
      "cell_type": "code",
      "execution_count": null,
      "metadata": {
        "id": "wr3PWzLTn2Hv"
      },
      "outputs": [],
      "source": [
        "def heapify(arr: list, n: int, root: int):\n",
        "    largest = root\n",
        "    left_child = 2 * root + 1\n",
        "    right_child = 2 * root + 2\n",
        "\n",
        "    if left_child < n and arr[left_child] > arr[root]:\n",
        "        largest = left_child\n",
        "\n",
        "    if right_child < n and arr[right_child] > arr[largest]:\n",
        "        largest = right_child\n",
        "\n",
        "    if largest != root:\n",
        "        arr[largest], arr[root] = arr[root], arr[largest]\n",
        "        heapify(arr, n, largest)"
      ]
    },
    {
      "cell_type": "code",
      "execution_count": null,
      "metadata": {
        "id": "RYqscj6KRDds"
      },
      "outputs": [],
      "source": [
        "def heapsort(arr: list):\n",
        "    n = len(arr)\n",
        "\n",
        "    for i in range(n // 2 - 1, -1, -1):\n",
        "        heapify(arr, n, i)\n",
        "\n",
        "    for i in range(n - 1, 0, -1):\n",
        "        arr[i], arr[0] = arr[0], arr[i]\n",
        "        heapify(arr, i, 0)"
      ]
    },
    {
      "cell_type": "markdown",
      "metadata": {
        "id": "LCStQkDKReni"
      },
      "source": [
        "## Сравнение времени работы"
      ]
    },
    {
      "cell_type": "code",
      "execution_count": null,
      "metadata": {
        "id": "F0g3LipUy95x"
      },
      "outputs": [],
      "source": [
        "import time"
      ]
    },
    {
      "cell_type": "code",
      "execution_count": null,
      "metadata": {
        "id": "1JXGEE9kw4cz"
      },
      "outputs": [],
      "source": [
        "bubble_sort_time = []\n",
        "\n",
        "for arr in passengers:\n",
        "    start = time.time()\n",
        "    bubble_sort(arr)\n",
        "    finish = time.time()\n",
        "    bubble_sort_time.append(finish - start)"
      ]
    },
    {
      "cell_type": "code",
      "execution_count": null,
      "metadata": {
        "id": "6oFQDqslyuPq"
      },
      "outputs": [],
      "source": [
        "insert_sort_time = []\n",
        "\n",
        "for arr in passengers:\n",
        "    start = time.time()\n",
        "    insert_sort(arr)\n",
        "    finish = time.time()\n",
        "    insert_sort_time.append(finish - start)"
      ]
    },
    {
      "cell_type": "code",
      "execution_count": null,
      "metadata": {
        "id": "GlFbUTqKzfiU"
      },
      "outputs": [],
      "source": [
        "heapsort_time = []\n",
        "\n",
        "for arr in passengers:\n",
        "    start = time.time()\n",
        "    heapsort(arr)\n",
        "    finish = time.time()\n",
        "    heapsort_time.append(finish - start)"
      ]
    },
    {
      "cell_type": "code",
      "execution_count": null,
      "metadata": {
        "id": "EDwtHgoZz8u4",
        "colab": {
          "base_uri": "https://localhost:8080/",
          "height": 469
        },
        "outputId": "67f6bd4b-183a-4087-dabd-4659073d18be"
      },
      "outputs": [
        {
          "output_type": "display_data",
          "data": {
            "text/plain": [
              "<Figure size 1000x500 with 1 Axes>"
            ],
            "image/png": "[encoded data removed]"
          },
          "metadata": {}
        }
      ],
      "source": [
        "plt.figure(figsize=(10, 5))\n",
        "plt.plot([100, 500, 1000, 5000, 10000, 50000, 100500], bubble_sort_time, label='bubble sort', marker='o', linewidth=2)\n",
        "plt.plot([100, 500, 1000, 5000, 10000, 50000, 100500], insert_sort_time, label='insert sort', marker='o', linewidth=2)\n",
        "plt.plot([100, 500, 1000, 5000, 10000, 50000, 100500], heapsort_time, label='heapsort', marker='o', linewidth=2)\n",
        "\n",
        "plt.xlabel(\"Размер массива\")\n",
        "plt.ylabel(\"Время сортировки\")\n",
        "plt.yscale('log')\n",
        "\n",
        "plt.legend()\n",
        "plt.show()"
      ]
    }
  ],
  "metadata": {
    "colab": {
      "provenance": []
    },
    "kernelspec": {
      "display_name": "Python 3",
      "name": "python3"
    },
    "language_info": {
      "name": "python"
    }
  },
  "nbformat": 4,
  "nbformat_minor": 0
}
