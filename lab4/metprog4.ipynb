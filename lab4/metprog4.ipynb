{
  "nbformat": 4,
  "nbformat_minor": 0,
  "metadata": {
    "colab": {
      "provenance": [],
      "authorship_tag": "ABX9TyPHc6iEKbN7Pdvy0JDwkdmj"
    },
    "kernelspec": {
      "name": "python3",
      "display_name": "Python 3"
    },
    "language_info": {
      "name": "python"
    }
  },
  "cells": [
    {
      "cell_type": "markdown",
      "source": [
        "Используя паттерн Adapter (адаптер), реализовать собственную структуру типа стек неограниченного размера, основанную на типе list из стандартной библиотеки. Обязательные методы: push, pop. Также необходимо реализовать собственный класс исключений для случая извлечения элемента из пустого стека."
      ],
      "metadata": {
        "id": "n0pVUxjhFXQu"
      }
    },
    {
      "cell_type": "code",
      "execution_count": null,
      "metadata": {
        "id": "ZwtsH5l29FJ4"
      },
      "outputs": [],
      "source": [
        "class StackEmptyError(Exception):\n",
        "    def __str__(self):\n",
        "        return \"Stack is empty\"\n",
        "\n",
        "\n",
        "class Stack:\n",
        "    def __init__(self):\n",
        "        self._stack = []\n",
        "\n",
        "    def push(self, item):\n",
        "        self._stack.append(item)\n",
        "\n",
        "    def pop(self):\n",
        "        if len(self._stack) == 0:\n",
        "            raise StackEmptyError()\n",
        "        return self._stack.pop()"
      ]
    },
    {
      "cell_type": "code",
      "source": [
        "stack = Stack()\n",
        "\n",
        "try:\n",
        "    stack.pop()  # StackEmptyError\n",
        "except StackEmptyError as e:\n",
        "    print(e)\n",
        "\n",
        "stack.push(1)\n",
        "stack.push(2)\n",
        "stack.push(3)\n",
        "stack.push(4)\n",
        "\n",
        "print(stack.pop())  # 4\n",
        "print(stack.pop())  # 3\n",
        "print(stack.pop())  # 2\n",
        "print(stack.pop())  # 1\n",
        "\n",
        "try:\n",
        "    stack.pop()  # StackEmptyError\n",
        "except StackEmptyError as e:\n",
        "    print(e)"
      ],
      "metadata": {
        "colab": {
          "base_uri": "https://localhost:8080/"
        },
        "id": "5_pCs0WvFaWW",
        "outputId": "2a6e59e4-cf8f-46a4-d8ee-6b9beaa19c04"
      },
      "execution_count": null,
      "outputs": [
        {
          "output_type": "stream",
          "name": "stdout",
          "text": [
            "Stack is empty\n",
            "4\n",
            "3\n",
            "2\n",
            "1\n",
            "Stack is empty\n"
          ]
        }
      ]
    },
    {
      "cell_type": "code",
      "source": [],
      "metadata": {
        "id": "1zvp125pGmSC"
      },
      "execution_count": null,
      "outputs": []
    }
  ]
}